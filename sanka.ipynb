{
  "nbformat": 4,
  "nbformat_minor": 0,
  "metadata": {
    "colab": {
      "provenance": []
    },
    "kernelspec": {
      "name": "python3",
      "display_name": "Python 3"
    },
    "language_info": {
      "name": "python"
    }
  },
  "cells": [
    {
      "cell_type": "code",
      "execution_count": null,
      "metadata": {
        "colab": {
          "base_uri": "https://localhost:8080/",
          "height": 424
        },
        "id": "qEhfLUk9GHj3",
        "outputId": "ea1401c9-d314-4910-f5b0-d38ba2d41830"
      },
      "outputs": [
        {
          "output_type": "execute_result",
          "data": {
            "text/plain": [
              "                                                     0       1  \\\n",
              "0    04:10:02.452266 IP 10.0.3.15.58842 > 192.168.1...  sackOK   \n",
              "1    04:10:02.492855 IP 10.0.3.15.35587 > 157.240.1...     NaN   \n",
              "2    04:10:02.493084 IP 10.0.3.15.35587 > 157.240.1...     NaN   \n",
              "3    04:10:02.495711 IP 10.0.3.15.46827 > 157.240.2...     NaN   \n",
              "4    04:10:02.495891 IP 10.0.3.15.46827 > 157.240.2...     NaN   \n",
              "..                                                 ...     ...   \n",
              "495  04:10:22.602463 IP 172.217.194.119.https > 10....     NaN   \n",
              "496  04:10:22.645565 IP 10.0.3.15.48650 > 172.217.1...     NaN   \n",
              "497  04:10:22.773367 IP 74.125.24.102.https > 10.0....     NaN   \n",
              "498  04:10:22.773720 IP 10.0.3.15.53398 > 74.125.24...     NaN   \n",
              "499  04:10:22.773785 IP 74.125.24.102.https > 10.0....     NaN   \n",
              "\n",
              "                       2    3          4  \n",
              "0    timestamp 2458699 0  nop  wscale 6>  \n",
              "1                    NaN  NaN        NaN  \n",
              "2                    NaN  NaN        NaN  \n",
              "3                    NaN  NaN        NaN  \n",
              "4                    NaN  NaN        NaN  \n",
              "..                   ...  ...        ...  \n",
              "495                  NaN  NaN        NaN  \n",
              "496                  NaN  NaN        NaN  \n",
              "497                  NaN  NaN        NaN  \n",
              "498                  NaN  NaN        NaN  \n",
              "499                  NaN  NaN        NaN  \n",
              "\n",
              "[500 rows x 5 columns]"
            ],
            "text/html": [
              "\n",
              "  <div id=\"df-208a367d-b1c7-453c-9bb7-745f51d0b62b\">\n",
              "    <div class=\"colab-df-container\">\n",
              "      <div>\n",
              "<style scoped>\n",
              "    .dataframe tbody tr th:only-of-type {\n",
              "        vertical-align: middle;\n",
              "    }\n",
              "\n",
              "    .dataframe tbody tr th {\n",
              "        vertical-align: top;\n",
              "    }\n",
              "\n",
              "    .dataframe thead th {\n",
              "        text-align: right;\n",
              "    }\n",
              "</style>\n",
              "<table border=\"1\" class=\"dataframe\">\n",
              "  <thead>\n",
              "    <tr style=\"text-align: right;\">\n",
              "      <th></th>\n",
              "      <th>0</th>\n",
              "      <th>1</th>\n",
              "      <th>2</th>\n",
              "      <th>3</th>\n",
              "      <th>4</th>\n",
              "    </tr>\n",
              "  </thead>\n",
              "  <tbody>\n",
              "    <tr>\n",
              "      <th>0</th>\n",
              "      <td>04:10:02.452266 IP 10.0.3.15.58842 &gt; 192.168.1...</td>\n",
              "      <td>sackOK</td>\n",
              "      <td>timestamp 2458699 0</td>\n",
              "      <td>nop</td>\n",
              "      <td>wscale 6&gt;</td>\n",
              "    </tr>\n",
              "    <tr>\n",
              "      <th>1</th>\n",
              "      <td>04:10:02.492855 IP 10.0.3.15.35587 &gt; 157.240.1...</td>\n",
              "      <td>NaN</td>\n",
              "      <td>NaN</td>\n",
              "      <td>NaN</td>\n",
              "      <td>NaN</td>\n",
              "    </tr>\n",
              "    <tr>\n",
              "      <th>2</th>\n",
              "      <td>04:10:02.493084 IP 10.0.3.15.35587 &gt; 157.240.1...</td>\n",
              "      <td>NaN</td>\n",
              "      <td>NaN</td>\n",
              "      <td>NaN</td>\n",
              "      <td>NaN</td>\n",
              "    </tr>\n",
              "    <tr>\n",
              "      <th>3</th>\n",
              "      <td>04:10:02.495711 IP 10.0.3.15.46827 &gt; 157.240.2...</td>\n",
              "      <td>NaN</td>\n",
              "      <td>NaN</td>\n",
              "      <td>NaN</td>\n",
              "      <td>NaN</td>\n",
              "    </tr>\n",
              "    <tr>\n",
              "      <th>4</th>\n",
              "      <td>04:10:02.495891 IP 10.0.3.15.46827 &gt; 157.240.2...</td>\n",
              "      <td>NaN</td>\n",
              "      <td>NaN</td>\n",
              "      <td>NaN</td>\n",
              "      <td>NaN</td>\n",
              "    </tr>\n",
              "    <tr>\n",
              "      <th>...</th>\n",
              "      <td>...</td>\n",
              "      <td>...</td>\n",
              "      <td>...</td>\n",
              "      <td>...</td>\n",
              "      <td>...</td>\n",
              "    </tr>\n",
              "    <tr>\n",
              "      <th>495</th>\n",
              "      <td>04:10:22.602463 IP 172.217.194.119.https &gt; 10....</td>\n",
              "      <td>NaN</td>\n",
              "      <td>NaN</td>\n",
              "      <td>NaN</td>\n",
              "      <td>NaN</td>\n",
              "    </tr>\n",
              "    <tr>\n",
              "      <th>496</th>\n",
              "      <td>04:10:22.645565 IP 10.0.3.15.48650 &gt; 172.217.1...</td>\n",
              "      <td>NaN</td>\n",
              "      <td>NaN</td>\n",
              "      <td>NaN</td>\n",
              "      <td>NaN</td>\n",
              "    </tr>\n",
              "    <tr>\n",
              "      <th>497</th>\n",
              "      <td>04:10:22.773367 IP 74.125.24.102.https &gt; 10.0....</td>\n",
              "      <td>NaN</td>\n",
              "      <td>NaN</td>\n",
              "      <td>NaN</td>\n",
              "      <td>NaN</td>\n",
              "    </tr>\n",
              "    <tr>\n",
              "      <th>498</th>\n",
              "      <td>04:10:22.773720 IP 10.0.3.15.53398 &gt; 74.125.24...</td>\n",
              "      <td>NaN</td>\n",
              "      <td>NaN</td>\n",
              "      <td>NaN</td>\n",
              "      <td>NaN</td>\n",
              "    </tr>\n",
              "    <tr>\n",
              "      <th>499</th>\n",
              "      <td>04:10:22.773785 IP 74.125.24.102.https &gt; 10.0....</td>\n",
              "      <td>NaN</td>\n",
              "      <td>NaN</td>\n",
              "      <td>NaN</td>\n",
              "      <td>NaN</td>\n",
              "    </tr>\n",
              "  </tbody>\n",
              "</table>\n",
              "<p>500 rows × 5 columns</p>\n",
              "</div>\n",
              "      <button class=\"colab-df-convert\" onclick=\"convertToInteractive('df-208a367d-b1c7-453c-9bb7-745f51d0b62b')\"\n",
              "              title=\"Convert this dataframe to an interactive table.\"\n",
              "              style=\"display:none;\">\n",
              "        \n",
              "  <svg xmlns=\"http://www.w3.org/2000/svg\" height=\"24px\"viewBox=\"0 0 24 24\"\n",
              "       width=\"24px\">\n",
              "    <path d=\"M0 0h24v24H0V0z\" fill=\"none\"/>\n",
              "    <path d=\"M18.56 5.44l.94 2.06.94-2.06 2.06-.94-2.06-.94-.94-2.06-.94 2.06-2.06.94zm-11 1L8.5 8.5l.94-2.06 2.06-.94-2.06-.94L8.5 2.5l-.94 2.06-2.06.94zm10 10l.94 2.06.94-2.06 2.06-.94-2.06-.94-.94-2.06-.94 2.06-2.06.94z\"/><path d=\"M17.41 7.96l-1.37-1.37c-.4-.4-.92-.59-1.43-.59-.52 0-1.04.2-1.43.59L10.3 9.45l-7.72 7.72c-.78.78-.78 2.05 0 2.83L4 21.41c.39.39.9.59 1.41.59.51 0 1.02-.2 1.41-.59l7.78-7.78 2.81-2.81c.8-.78.8-2.07 0-2.86zM5.41 20L4 18.59l7.72-7.72 1.47 1.35L5.41 20z\"/>\n",
              "  </svg>\n",
              "      </button>\n",
              "      \n",
              "  <style>\n",
              "    .colab-df-container {\n",
              "      display:flex;\n",
              "      flex-wrap:wrap;\n",
              "      gap: 12px;\n",
              "    }\n",
              "\n",
              "    .colab-df-convert {\n",
              "      background-color: #E8F0FE;\n",
              "      border: none;\n",
              "      border-radius: 50%;\n",
              "      cursor: pointer;\n",
              "      display: none;\n",
              "      fill: #1967D2;\n",
              "      height: 32px;\n",
              "      padding: 0 0 0 0;\n",
              "      width: 32px;\n",
              "    }\n",
              "\n",
              "    .colab-df-convert:hover {\n",
              "      background-color: #E2EBFA;\n",
              "      box-shadow: 0px 1px 2px rgba(60, 64, 67, 0.3), 0px 1px 3px 1px rgba(60, 64, 67, 0.15);\n",
              "      fill: #174EA6;\n",
              "    }\n",
              "\n",
              "    [theme=dark] .colab-df-convert {\n",
              "      background-color: #3B4455;\n",
              "      fill: #D2E3FC;\n",
              "    }\n",
              "\n",
              "    [theme=dark] .colab-df-convert:hover {\n",
              "      background-color: #434B5C;\n",
              "      box-shadow: 0px 1px 3px 1px rgba(0, 0, 0, 0.15);\n",
              "      filter: drop-shadow(0px 1px 2px rgba(0, 0, 0, 0.3));\n",
              "      fill: #FFFFFF;\n",
              "    }\n",
              "  </style>\n",
              "\n",
              "      <script>\n",
              "        const buttonEl =\n",
              "          document.querySelector('#df-208a367d-b1c7-453c-9bb7-745f51d0b62b button.colab-df-convert');\n",
              "        buttonEl.style.display =\n",
              "          google.colab.kernel.accessAllowed ? 'block' : 'none';\n",
              "\n",
              "        async function convertToInteractive(key) {\n",
              "          const element = document.querySelector('#df-208a367d-b1c7-453c-9bb7-745f51d0b62b');\n",
              "          const dataTable =\n",
              "            await google.colab.kernel.invokeFunction('convertToInteractive',\n",
              "                                                     [key], {});\n",
              "          if (!dataTable) return;\n",
              "\n",
              "          const docLinkHtml = 'Like what you see? Visit the ' +\n",
              "            '<a target=\"_blank\" href=https://colab.research.google.com/notebooks/data_table.ipynb>data table notebook</a>'\n",
              "            + ' to learn more about interactive tables.';\n",
              "          element.innerHTML = '';\n",
              "          dataTable['output_type'] = 'display_data';\n",
              "          await google.colab.output.renderOutput(dataTable, element);\n",
              "          const docLink = document.createElement('div');\n",
              "          docLink.innerHTML = docLinkHtml;\n",
              "          element.appendChild(docLink);\n",
              "        }\n",
              "      </script>\n",
              "    </div>\n",
              "  </div>\n",
              "  "
            ]
          },
          "metadata": {},
          "execution_count": 1
        }
      ],
      "source": [
        "import pandas as pd\n",
        "\n",
        "df = pd.read_csv('/content/dump1 (1).csv',header=None)\n",
        "df"
      ]
    },
    {
      "cell_type": "code",
      "source": [
        "df1 = df.iloc[:, 0]"
      ],
      "metadata": {
        "id": "gRrvxdjgHHJV"
      },
      "execution_count": null,
      "outputs": []
    },
    {
      "cell_type": "code",
      "source": [
        "t1 = df1.iloc[17]"
      ],
      "metadata": {
        "id": "_5rYmcPNHsIC"
      },
      "execution_count": null,
      "outputs": []
    },
    {
      "cell_type": "code",
      "source": [
        "x = t1.split(\" \")"
      ],
      "metadata": {
        "id": "yymXVzeyIiJm"
      },
      "execution_count": null,
      "outputs": []
    },
    {
      "cell_type": "code",
      "source": [
        "x"
      ],
      "metadata": {
        "colab": {
          "base_uri": "https://localhost:8080/"
        },
        "id": "rBFoP-MVIlR2",
        "outputId": "4337aa26-3371-4d6e-c98d-074037510ee7"
      },
      "execution_count": null,
      "outputs": [
        {
          "output_type": "execute_result",
          "data": {
            "text/plain": [
              "['04:10:04.641446',\n",
              " 'IP',\n",
              " '185.151.204.7.https',\n",
              " '>',\n",
              " '10.0.3.15.53475:',\n",
              " 'S',\n",
              " '1112832001:1112832001(0)',\n",
              " 'ack',\n",
              " '3494538225',\n",
              " 'win',\n",
              " '65535',\n",
              " '<mss',\n",
              " '1460>']"
            ]
          },
          "metadata": {},
          "execution_count": 5
        }
      ]
    },
    {
      "cell_type": "code",
      "source": [
        "len(df1)"
      ],
      "metadata": {
        "colab": {
          "base_uri": "https://localhost:8080/"
        },
        "id": "FSa813csJWS2",
        "outputId": "47b769e8-32bd-4073-afea-64b58f75c6c5"
      },
      "execution_count": null,
      "outputs": [
        {
          "output_type": "execute_result",
          "data": {
            "text/plain": [
              "500"
            ]
          },
          "metadata": {},
          "execution_count": 6
        }
      ]
    },
    {
      "cell_type": "code",
      "source": [
        "win              = []\n",
        "ack              = []\n",
        "source_port      = []\n",
        "destination_port = []\n",
        "for i in range ( len(df1) ):\n",
        "\n",
        "  #if ( i == 20 ):\n",
        "  #  break\n",
        "\n",
        "  \n",
        "  \n",
        "\n",
        "  t1 = df1.iloc[i]\n",
        "  x = t1.split(\" \")\n",
        "  #print(x[4])\n",
        "  #for j in range (len(x)):\n",
        "  #  if ( x[j] == 'win' ):\n",
        "  #    win.append(x[j+1])\n",
        "  #    print (i)\n",
        "  #    print (x[j+1])\n",
        "\n",
        "  if 'win' in x:\n",
        "    win.append(  x[1+x.index('win')]  )\n",
        "  else:\n",
        "    win.append(0)\n",
        "\n",
        "\n",
        "  if 'ack' in x:\n",
        "    ack.append(  x[1+x.index('ack')]  )\n",
        "  else:\n",
        "    ack.append(0)\n",
        "\n",
        "  source_port_i = x[2]\n",
        "  source_port_i = source_port_i.split(\".\")\n",
        "  source_port_i = source_port_i[4]\n",
        "  #print (source_port_i )\n",
        "  source_port.append(source_port_i)\n",
        "\n",
        "  destination_port_i = x[4]\n",
        "  destination_port_i = destination_port_i.split(\".\")\n",
        "  destination_port_i = destination_port_i[4]\n",
        "  destination_port_i =destination_port_i.split(\":\")\n",
        "  #print (destination_port_i[0] )\n",
        "  destination_port.append(destination_port_i[0])\n",
        "\n",
        "\n",
        "\n",
        "\n",
        "\n",
        "print (len(win))\n",
        "print (len(ack))\n",
        "print (len(source_port))\n",
        "print (len(destination_port))\n",
        "\n",
        "\n",
        "destination_port = list(map(lambda x: x.replace('https', '443'), destination_port))\n",
        "destination_port = list(map(lambda x: x.replace('webcache', '4443'), destination_port))\n",
        "destination_port = list(map(lambda x: x.replace('domain', '513'), destination_port))\n",
        "\n",
        "\n",
        "source_port = list(map(lambda x: x.replace('https', '443'), source_port))\n",
        "source_port = list(map(lambda x: x.replace('webcache', '4443'), source_port))\n",
        "source_port = list(map(lambda x: x.replace('domain', '513'), source_port))\n",
        "\n",
        "\n",
        "p= (list(set(destination_port)))\n",
        "q =list(set(source_port))\n",
        "\n",
        "print (p)\n",
        "print (q)"
      ],
      "metadata": {
        "colab": {
          "base_uri": "https://localhost:8080/"
        },
        "id": "KcyPo35mJd76",
        "outputId": "3567d030-ac09-4a1a-a7df-c3befd976a84"
      },
      "execution_count": null,
      "outputs": [
        {
          "output_type": "stream",
          "name": "stdout",
          "text": [
            "500\n",
            "500\n",
            "500\n",
            "500\n",
            "['33042', '50492', '47270', '49369', '53560', '43191', '46141', '4443', '57223', '40912', '32846', '17845', '46286', '56043', '58784', '52811', '38530', '13266', '38658', '60246', '50052', '45287', '46827', '60191', '33714', '46245', '39636', '58509', '58312', '56069', '56510', '60781', '33931', '53398', '41901', '50117', '48650', '37215', '513', '43386', '35587', '36355', '55666', '35602', '36841', '57042', '24375', '47845', '43664', '443', '52579', '43275', '53475', '41065', '51903', '58842', '40495', '37226', '34482']\n",
            "['33042', '50492', '47270', '49369', '34174', '53560', '43191', '46141', '4443', '57223', '40912', '32846', '17845', '46286', '56043', '58784', '52811', '38530', '13266', '60246', '38658', '50052', '45287', '46827', '60191', '33714', '46245', '39636', '58509', '58312', '56069', '56510', '60781', '33931', '53398', '41901', '50117', '48650', '37215', '513', '43386', '35587', '36355', '58099', '55666', '35602', '36841', '57042', '24375', '47845', '43664', '443', '52579', '43275', '53475', '41065', '51903', '58842', '40495', '37226', '34482']\n"
          ]
        }
      ]
    },
    {
      "cell_type": "code",
      "source": [
        "df_new = pd.DataFrame(data={\"A\": source_port, \"B\":destination_port ,\"H\": win, \"K\":ack }   )\n",
        "df_new.to_csv(\"sanka_predict.csv\", sep=',',index=False)"
      ],
      "metadata": {
        "id": "KSKGC0GhvSC2"
      },
      "execution_count": null,
      "outputs": []
    }
  ]
}