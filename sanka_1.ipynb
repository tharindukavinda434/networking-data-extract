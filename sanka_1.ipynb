{
  "nbformat": 4,
  "nbformat_minor": 0,
  "metadata": {
    "colab": {
      "provenance": []
    },
    "kernelspec": {
      "name": "python3",
      "display_name": "Python 3"
    },
    "language_info": {
      "name": "python"
    },
    "accelerator": "GPU"
  },
  "cells": [
    {
      "cell_type": "code",
      "execution_count": null,
      "metadata": {
        "colab": {
          "base_uri": "https://localhost:8080/"
        },
        "id": "ffoxUDoInccg",
        "outputId": "b4832134-9554-45cb-abd2-39255ca6b727"
      },
      "outputs": [
        {
          "output_type": "execute_result",
          "data": {
            "text/plain": [
              "1        36\n",
              "2       117\n",
              "3       196\n",
              "4         6\n",
              "5         6\n",
              "       ... \n",
              "7841      0\n",
              "7842      4\n",
              "7843      0\n",
              "7844      0\n",
              "7845      0\n",
              "Name: 0, Length: 7845, dtype: object"
            ]
          },
          "metadata": {},
          "execution_count": 1
        }
      ],
      "source": [
        "import pandas as pd\n",
        "\n",
        "df = pd.read_csv('/content/android_traffic7.csv',header=None)\n",
        "df = df.iloc[1:,:]\n",
        "A = df.iloc[:, 0]\n",
        "A"
      ]
    },
    {
      "cell_type": "code",
      "source": [
        "B = df.iloc[:, 1]\n",
        "B"
      ],
      "metadata": {
        "colab": {
          "base_uri": "https://localhost:8080/"
        },
        "id": "OtEOs2Tdorg-",
        "outputId": "2b4c6965-0aa9-4d42-dcc7-696c4c1404f5"
      },
      "execution_count": null,
      "outputs": [
        {
          "output_type": "execute_result",
          "data": {
            "text/plain": [
              "1       6\n",
              "2       0\n",
              "3       0\n",
              "4       0\n",
              "5       0\n",
              "       ..\n",
              "7841    0\n",
              "7842    4\n",
              "7843    0\n",
              "7844    0\n",
              "7845    0\n",
              "Name: 1, Length: 7845, dtype: object"
            ]
          },
          "metadata": {},
          "execution_count": 2
        }
      ]
    },
    {
      "cell_type": "code",
      "source": [
        "H = df.iloc[:,7]\n",
        "H"
      ],
      "metadata": {
        "colab": {
          "base_uri": "https://localhost:8080/"
        },
        "id": "Ut--ujcVpH2I",
        "outputId": "0510d371-0e5a-43db-c472-ab80a40ffca4"
      },
      "execution_count": null,
      "outputs": [
        {
          "output_type": "execute_result",
          "data": {
            "text/plain": [
              "1        33\n",
              "2       107\n",
              "3       214\n",
              "4         6\n",
              "5         6\n",
              "       ... \n",
              "7841      2\n",
              "7842      1\n",
              "7843      2\n",
              "7844      2\n",
              "7845      2\n",
              "Name: 7, Length: 7845, dtype: object"
            ]
          },
          "metadata": {},
          "execution_count": 3
        }
      ]
    },
    {
      "cell_type": "code",
      "source": [
        "K = df.iloc[:,10]\n",
        "K"
      ],
      "metadata": {
        "colab": {
          "base_uri": "https://localhost:8080/"
        },
        "id": "r-WAaii4pNwJ",
        "outputId": "856d4382-7636-4a1d-e668-c1bbbd10288d"
      },
      "execution_count": null,
      "outputs": [
        {
          "output_type": "execute_result",
          "data": {
            "text/plain": [
              "1        39\n",
              "2       128\n",
              "3       205\n",
              "4         7\n",
              "5         7\n",
              "       ... \n",
              "7841      2\n",
              "7842      5\n",
              "7843      2\n",
              "7844      2\n",
              "7845      2\n",
              "Name: 10, Length: 7845, dtype: object"
            ]
          },
          "metadata": {},
          "execution_count": 4
        }
      ]
    },
    {
      "cell_type": "code",
      "source": [
        "output = df.iloc[:,-1]\n",
        "output\n"
      ],
      "metadata": {
        "colab": {
          "base_uri": "https://localhost:8080/"
        },
        "id": "YGoowAX8plnH",
        "outputId": "a7e53e16-5905-450b-84ac-fb13aa76f0d4"
      },
      "execution_count": null,
      "outputs": [
        {
          "output_type": "execute_result",
          "data": {
            "text/plain": [
              "1       0\n",
              "2       0\n",
              "3       0\n",
              "4       0\n",
              "5       0\n",
              "       ..\n",
              "7841    1\n",
              "7842    1\n",
              "7843    1\n",
              "7844    1\n",
              "7845    1\n",
              "Name: 12, Length: 7845, dtype: object"
            ]
          },
          "metadata": {},
          "execution_count": 5
        }
      ]
    },
    {
      "cell_type": "code",
      "source": [
        "df_new = pd.DataFrame(data={\"A\": A, \"B\":B ,\"H\": H, \"K\":K, \"output\":output }   )\n",
        "df_new.to_csv(\"sanka.csv\", sep=',',index=False)"
      ],
      "metadata": {
        "id": "NdIfp-vurozN"
      },
      "execution_count": null,
      "outputs": []
    },
    {
      "cell_type": "code",
      "source": [],
      "metadata": {
        "id": "PrXSprY-wn-2"
      },
      "execution_count": null,
      "outputs": []
    },
    {
      "cell_type": "code",
      "source": [
        "import numpy as np\n",
        "import pandas as pd\n",
        "from sklearn.model_selection import train_test_split\n",
        "from sklearn.ensemble import RandomForestClassifier\n",
        "from sklearn.metrics import accuracy_score\n",
        "from sklearn.tree import DecisionTreeRegressor\n",
        "\n",
        "\n",
        "\n"
      ],
      "metadata": {
        "id": "hPI6OcPepvtG"
      },
      "execution_count": null,
      "outputs": []
    },
    {
      "cell_type": "code",
      "source": [
        "data = pd.read_csv('/content/sanka.csv')\n",
        "X = data.drop(columns=['output']) \n",
        "X = np.nan_to_num(X)\n",
        "Y = data['output'] "
      ],
      "metadata": {
        "id": "WnZwLy1ms3oH"
      },
      "execution_count": null,
      "outputs": []
    },
    {
      "cell_type": "code",
      "source": [
        "X_train, X_test, Y_train, Y_test = train_test_split(X, Y, test_size=0.2,random_state=42)\n",
        "\n",
        "model = RandomForestClassifier(n_estimators = 100, random_state=42)\n",
        "model.fit(X_train, Y_train)\n",
        "#tree.fit(X_train,Y_train)\n",
        "y_pred_test = model.predict(X_test)\n",
        "accuracy = accuracy_score(Y_test, y_pred_test)\n",
        "print(accuracy)\n",
        "\n",
        "prediction_test = model.predict(X_test)\n",
        "#prediction=model.predict([[36,6,3,3911,0,0,39,33,5100,4140,39,3]])\n",
        "#print(prediction)"
      ],
      "metadata": {
        "colab": {
          "base_uri": "https://localhost:8080/"
        },
        "id": "_D6R1Hj1tYXd",
        "outputId": "45d93d39-3a76-4bb0-8838-c3cfd38138aa"
      },
      "execution_count": null,
      "outputs": [
        {
          "output_type": "stream",
          "name": "stdout",
          "text": [
            "0.8508604206500956\n"
          ]
        }
      ]
    },
    {
      "cell_type": "code",
      "source": [
        "data = pd.read_csv('/content/sanka_predict (1).csv')\n",
        "X = data \n",
        "X = np.nan_to_num(X)\n"
      ],
      "metadata": {
        "id": "mto2wDi3wpE9"
      },
      "execution_count": null,
      "outputs": []
    },
    {
      "cell_type": "code",
      "source": [
        "Y = model.predict(X)\n",
        "Y"
      ],
      "metadata": {
        "id": "PH1YcyDixIMU",
        "outputId": "89760f63-5194-46df-d61e-bc95a30143ed",
        "colab": {
          "base_uri": "https://localhost:8080/"
        }
      },
      "execution_count": null,
      "outputs": [
        {
          "output_type": "execute_result",
          "data": {
            "text/plain": [
              "array([0, 0, 0, 0, 0, 0, 0, 0, 0, 0, 0, 0, 0, 0, 0, 0, 0, 0, 0, 0, 0, 0,\n",
              "       0, 0, 0, 0, 0, 0, 0, 0, 0, 0, 0, 0, 0, 0, 0, 0, 0, 0, 0, 0, 0, 0,\n",
              "       0, 0, 0, 0, 0, 0, 0, 0, 0, 0, 0, 0, 0, 0, 0, 0, 0, 0, 0, 0, 0, 0,\n",
              "       0, 0, 0, 0, 0, 0, 0, 0, 0, 0, 0, 0, 0, 0, 0, 0, 0, 0, 0, 0, 0, 0,\n",
              "       0, 0, 0, 0, 0, 0, 0, 0, 0, 0, 0, 0, 0, 0, 0, 0, 0, 0, 0, 0, 0, 0,\n",
              "       0, 0, 0, 0, 0, 0, 0, 0, 0, 0, 0, 0, 0, 0, 0, 0, 0, 0, 0, 0, 0, 0,\n",
              "       0, 0, 0, 0, 0, 0, 0, 0, 0, 0, 0, 0, 0, 0, 0, 0, 0, 0, 0, 0, 0, 0,\n",
              "       0, 0, 0, 0, 0, 0, 0, 0, 0, 0, 0, 0, 0, 0, 0, 0, 0, 0, 0, 0, 0, 0,\n",
              "       0, 0, 0, 0, 0, 0, 0, 0, 0, 0, 0, 0, 0, 0, 0, 0, 0, 0, 0, 0, 0, 0,\n",
              "       0, 0, 0, 0, 0, 0, 0, 0, 0, 0, 0, 0, 0, 0, 0, 0, 0, 0, 0, 0, 0, 0,\n",
              "       0, 0, 0, 0, 0, 0, 0, 0, 0, 0, 0, 0, 0, 0, 0, 0, 0, 0, 0, 0, 0, 0,\n",
              "       0, 0, 0, 0, 0, 0, 0, 0, 0, 0, 0, 0, 0, 0, 0, 0, 0, 0, 0, 0, 0, 0,\n",
              "       0, 0, 0, 0, 0, 0, 0, 0, 0, 0, 0, 0, 0, 0, 0, 0, 0, 0, 0, 0, 0, 0,\n",
              "       0, 0, 0, 0, 0, 0, 0, 0, 0, 0, 0, 0, 0, 0, 0, 0, 0, 0, 0, 0, 0, 0,\n",
              "       0, 0, 0, 0, 0, 0, 0, 0, 0, 0, 0, 0, 0, 0, 0, 0, 0, 0, 0, 0, 0, 0,\n",
              "       0, 0, 0, 0, 0, 0, 0, 0, 0, 0, 0, 0, 0, 0, 0, 0, 0, 0, 0, 0, 0, 0,\n",
              "       0, 0, 0, 0, 0, 0, 0, 0, 0, 0, 0, 0, 0, 0, 0, 0, 0, 0, 0, 0, 0, 0,\n",
              "       0, 0, 0, 0, 0, 0, 0, 0, 0, 0, 0, 0, 0, 0, 0, 0, 0, 0, 0, 0, 0, 0,\n",
              "       0, 0, 0, 0, 0, 0, 0, 0, 0, 0, 0, 0, 0, 0, 0, 0, 0, 0, 0, 0, 0, 0,\n",
              "       0, 0, 0, 0, 0, 0, 0, 0, 0, 0, 0, 0, 0, 0, 0, 0, 0, 0, 0, 0, 0, 0,\n",
              "       0, 0, 0, 0, 0, 0, 0, 0, 0, 0, 0, 0, 0, 0, 0, 0, 0, 0, 0, 0, 0, 0,\n",
              "       0, 0, 0, 0, 0, 0, 0, 0, 0, 0, 0, 0, 0, 0, 0, 0, 0, 0, 0, 0, 0, 0,\n",
              "       0, 0, 0, 0, 0, 0, 0, 0, 0, 0, 0, 0, 0, 0, 0, 0])"
            ]
          },
          "metadata": {},
          "execution_count": 11
        }
      ]
    },
    {
      "cell_type": "code",
      "source": [],
      "metadata": {
        "id": "2kJeENhx3VQ6"
      },
      "execution_count": null,
      "outputs": []
    },
    {
      "cell_type": "markdown",
      "source": [],
      "metadata": {
        "id": "kQ63257_3WZL"
      }
    },
    {
      "cell_type": "markdown",
      "source": [],
      "metadata": {
        "id": "JbVVmmny3Wom"
      }
    }
  ]
}